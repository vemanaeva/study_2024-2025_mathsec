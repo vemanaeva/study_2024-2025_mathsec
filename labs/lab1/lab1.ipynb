{
 "cells": [
  {
   "cell_type": "markdown",
   "id": "5ae9d61f-c47a-48d2-a680-7f6336c9d2b0",
   "metadata": {},
   "source": [
    "## Лабораторная работа №1\n",
    "\n",
    "Шифры простой замены: шифр Цезаря, шифр Атбаш\n",
    "\n",
    "Выполнила:\n",
    "\n",
    "Манаева Варвара Евгеньевна, НФИмд-01-24, 1132249514"
   ]
  },
  {
   "cell_type": "markdown",
   "id": "a538d8ca-1f55-4220-8ca1-7f2abd2d0db0",
   "metadata": {},
   "source": [
    "### 1. Реализовать шифр Цезаря с произвольным ключом $k$"
   ]
  },
  {
   "cell_type": "code",
   "execution_count": 5,
   "id": "88eb5ba1-6aba-4842-96d8-7c1cf3f4700b",
   "metadata": {},
   "outputs": [
    {
     "data": {
      "text/plain": [
       "shifrCezarya (generic function with 1 method)"
      ]
     },
     "execution_count": 5,
     "metadata": {},
     "output_type": "execute_result"
    }
   ],
   "source": [
    "function shifrCezarya(k::Integer, text::AbstractString)::AbstractString\n",
    "    k = mod(k, 128)\n",
    "    println(\"Text sent to be encoded:\\n\", text)\n",
    "    t = filter(isascii,text)\n",
    "    println(\"Text to be encoded:\\n\", t)\n",
    "    temp = only.(split(t,\"\"))\n",
    "    for i in 1:length(temp)\n",
    "        temp[i] = Char(mod(k+Int(temp[i]), 128))\n",
    "    end\n",
    "    t = join(temp)\n",
    "    return t\n",
    "end"
   ]
  },
  {
   "cell_type": "code",
   "execution_count": 6,
   "id": "21e0ef4f-ca51-436d-9ca8-212f10ba7e80",
   "metadata": {},
   "outputs": [
    {
     "name": "stdout",
     "output_type": "stream",
     "text": [
      "Text sent to be encoded:\n",
      "TEXT to be coded!!!! αβγ and some innocent letters\n",
      "Text to be encoded:\n",
      "TEXT to be coded!!!!  and some innocent letters\n",
      "The result of encoding:\n",
      "WH[W#wr#eh#frghg$$$$##dqg#vrph#lqqrfhqw#ohwwhuv\n",
      "\n",
      "\n",
      "Text sent to be encoded:\n",
      "WH[W#wr#eh#frghg$$$$##dqg#vrph#lqqrfhqw#ohwwhuv\n",
      "Text to be encoded:\n",
      "WH[W#wr#eh#frghg$$$$##dqg#vrph#lqqrfhqw#ohwwhuv\n",
      "The result of decoding:\n",
      "TEXT to be coded!!!!  and some innocent letters\n"
     ]
    }
   ],
   "source": [
    "coded_text = shifrCezarya(3, \"TEXT to be coded!!!! αβγ and some innocent letters\")\n",
    "println(\"The result of encoding:\\n\", coded_text, \"\\n\\n\")\n",
    "decoded_text = shifrCezarya(-131, coded_text)\n",
    "println(\"The result of decoding:\\n\", decoded_text)"
   ]
  },
  {
   "cell_type": "markdown",
   "id": "a361affe-f568-446b-ab16-3545350d568c",
   "metadata": {},
   "source": [
    "### 2. Реализовать шифр Атбаш"
   ]
  },
  {
   "cell_type": "code",
   "execution_count": 3,
   "id": "20564604-d9fb-4276-afb9-e05b871a5c50",
   "metadata": {},
   "outputs": [
    {
     "data": {
      "text/plain": [
       "shifrAtbash (generic function with 1 method)"
      ]
     },
     "execution_count": 3,
     "metadata": {},
     "output_type": "execute_result"
    }
   ],
   "source": [
    "function shifrAtbash(text::AbstractString)::AbstractString\n",
    "    println(\"Text sent to be encoded:\\n\", text)\n",
    "    t = filter(isascii,text)\n",
    "    println(\"Text to be encoded:\\n\", t)\n",
    "    temp = only.(split(t,\"\"))\n",
    "    for i in 1:length(temp)\n",
    "        temp[i] = Char(127-Int(temp[i]))\n",
    "    end\n",
    "    t = join(temp)\n",
    "    return t\n",
    "end"
   ]
  },
  {
   "cell_type": "code",
   "execution_count": 4,
   "id": "5c9e3673-5dda-4cf2-a21f-6628acc3e915",
   "metadata": {},
   "outputs": [
    {
     "name": "stdout",
     "output_type": "stream",
     "text": [
      "Text sent to be encoded:\n",
      "TEXT to be coded!!!! αβγ and some innocent letters\n",
      "Text to be encoded:\n",
      "TEXT to be coded!!!!  and some innocent letters\n",
      "The result of encoding:\n",
      "\f",
      ":'+_\u000b",
      "\u0010_\u001d",
      "\u001a_\u001c",
      "\u0010\u001b\u001a\u001b^^^^__\u001e",
      "\u0011\u001b_\f",
      "\u0010\u0012\u001a_\u0016\u0011\u0011\u0010\u001c",
      "\u001a\u0011\u000b",
      "_\u0013\u001a\u000b",
      "\u000b",
      "\u001a\n",
      "\n",
      "\n",
      "Text sent to be encoded:\n",
      "\f",
      ":'+_\u000b",
      "\u0010_\u001d",
      "\u001a_\u001c",
      "\u0010\u001b\u001a\u001b^^^^__\u001e",
      "\u0011\u001b_\f",
      "\u0010\u0012\u001a_\u0016\u0011\u0011\u0010\u001c",
      "\u001a\u0011\u000b",
      "_\u0013\u001a\u000b",
      "\u000b",
      "\u001a\n",
      "Text to be encoded:\n",
      "\f",
      ":'+_\u000b",
      "\u0010_\u001d",
      "\u001a_\u001c",
      "\u0010\u001b\u001a\u001b^^^^__\u001e",
      "\u0011\u001b_\f",
      "\u0010\u0012\u001a_\u0016\u0011\u0011\u0010\u001c",
      "\u001a\u0011\u000b",
      "_\u0013\u001a\u000b",
      "\u000b",
      "\u001a\n",
      "The result of decoding:\n",
      "TEXT to be coded!!!!  and some innocent letters\n"
     ]
    }
   ],
   "source": [
    "coded_text = shifrAtbash(\"TEXT to be coded!!!! αβγ and some innocent letters\")\n",
    "println(\"The result of encoding:\\n\", coded_text, \"\\n\\n\")\n",
    "decoded_text = shifrAtbash(coded_text)\n",
    "println(\"The result of decoding:\\n\", decoded_text)"
   ]
  }
 ],
 "metadata": {
  "kernelspec": {
   "display_name": "Julia 1.9.3",
   "language": "julia",
   "name": "julia-1.9"
  },
  "language_info": {
   "file_extension": ".jl",
   "mimetype": "application/julia",
   "name": "julia",
   "version": "1.9.3"
  }
 },
 "nbformat": 4,
 "nbformat_minor": 5
}

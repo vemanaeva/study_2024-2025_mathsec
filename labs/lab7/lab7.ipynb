{
 "cells": [
  {
   "cell_type": "markdown",
   "id": "5ae9d61f-c47a-48d2-a680-7f6336c9d2b0",
   "metadata": {},
   "source": [
    "## Лабораторная работа №7\n",
    "\n",
    "Дискретное логарифмирование в конечном поле\n",
    "\n",
    "Выполнила:\n",
    "\n",
    "Манаева Варвара Евгеньевна, НФИмд-01-24, 1132249514"
   ]
  },
  {
   "cell_type": "markdown",
   "id": "23f8065f-1b2e-444a-9482-ada3a3c443ee",
   "metadata": {},
   "source": [
    "Для проверки будем использовать число $221$"
   ]
  },
  {
   "cell_type": "markdown",
   "id": "a538d8ca-1f55-4220-8ca1-7f2abd2d0db0",
   "metadata": {},
   "source": [
    "### 1. Алгоритм, реализующий p-метод Полларда для задач дискретного логарифмирования"
   ]
  },
  {
   "cell_type": "code",
   "execution_count": 119,
   "id": "a3de271e-1ec9-4840-80f2-c6231f7f871f",
   "metadata": {},
   "outputs": [
    {
     "data": {
      "text/plain": [
       "searching_for_gamma (generic function with 1 method)"
      ]
     },
     "execution_count": 119,
     "metadata": {},
     "output_type": "execute_result"
    }
   ],
   "source": [
    "function searching_for_gamma(a_diff, b_diff, p)\n",
    "    for i in 1:p\n",
    "        if b_diff*i % p == a_diff\n",
    "            return i\n",
    "        end\n",
    "    end\n",
    "    return \"Not found\"\n",
    "end"
   ]
  },
  {
   "cell_type": "code",
   "execution_count": 89,
   "id": "3903e775-160c-4b56-872b-8a9fa4f1a77b",
   "metadata": {},
   "outputs": [
    {
     "data": {
      "text/plain": [
       "new_xab (generic function with 1 method)"
      ]
     },
     "execution_count": 89,
     "metadata": {},
     "output_type": "execute_result"
    }
   ],
   "source": [
    "function new_xab(x, a, b, p, alph, bett)\n",
    "    if x % 3 == 0\n",
    "        return x^2 % p, a*2 % (p-1), b*2 % (p-1)\n",
    "    elseif x % 3 == 1\n",
    "        return x*alph % p, (a+1) % (p-1), b\n",
    "    else\n",
    "        return x*bett % p, a, (b+1) % (p-1)\n",
    "    end\n",
    "end"
   ]
  },
  {
   "cell_type": "code",
   "execution_count": 94,
   "id": "88eb5ba1-6aba-4842-96d8-7c1cf3f4700b",
   "metadata": {},
   "outputs": [
    {
     "data": {
      "text/plain": [
       "metodPollarda (generic function with 1 method)"
      ]
     },
     "execution_count": 94,
     "metadata": {},
     "output_type": "execute_result"
    }
   ],
   "source": [
    "function metodPollarda(p, alp, bet)# , any_func::Function)\n",
    "    if p % 2 == 0\n",
    "        return \"Incorrect input: p must be simple\"\n",
    "    end\n",
    "    a_i = 0; b_i = 0; x_i = 1\n",
    "    a_2i = 0; b_2i = 0; x_2i = 1\n",
    "    i = 1\n",
    "    tries = 1000\n",
    "    data = zeros(Int64, (3, tries))\n",
    "    data2 = zeros(Int64, (3, tries))\n",
    "    while i <= tries\n",
    "        x_i, a_i, b_i = new_xab(x_i, a_i, b_i, p, alp, bet)\n",
    "        data[:, i] = [x_i, a_i, b_i]\n",
    "        \n",
    "        x_2i, a_2i, b_2i = new_xab(x_2i, a_2i, b_2i, p, alp, bet)\n",
    "        x_2i, a_2i, b_2i = new_xab(x_2i, a_2i, b_2i, p, alp, bet)\n",
    "        data2[:, i] = [x_2i, a_2i, b_2i]\n",
    "\n",
    "        if x_i == x_2i\n",
    "            display(data[:, 1:i])\n",
    "            display(data2[:, 1:i])\n",
    "            r = b_2i - b_i\n",
    "            if r == 0\n",
    "                return \"Не найдено\"\n",
    "            else\n",
    "                return searching_for_gamma(a_i - a_2i, r, p)\n",
    "            end\n",
    "        end\n",
    "        i += 1\n",
    "    end\n",
    "    return \"Делитель не найден\"\n",
    "end"
   ]
  },
  {
   "cell_type": "code",
   "execution_count": 120,
   "id": "24e10ab4-1e19-4701-a32b-c2468943d6e9",
   "metadata": {},
   "outputs": [
    {
     "data": {
      "text/plain": [
       "3×14 Matrix{Int64}:\n",
       " 10  100  37  49  62  9  81  34  19  83  69  53  75  61\n",
       "  1    2   3   4   5  5  10  20  21  22  22  44  44  88\n",
       "  0    0   0   0   0  1   2   4   4   4   5  10  11  22"
      ]
     },
     "metadata": {},
     "output_type": "display_data"
    },
    {
     "data": {
      "text/plain": [
       "3×14 Matrix{Int64}:\n",
       " 100  49  9  34  83  53  61  61  61  61  61  61  61  61\n",
       "   2   4  5  20  22  44  88  72  40  82  60  16  34  70\n",
       "   0   0  1   4   4  10  22  44  88  70  34  68  30  60"
      ]
     },
     "metadata": {},
     "output_type": "display_data"
    },
    {
     "data": {
      "text/plain": [
       "23"
      ]
     },
     "execution_count": 120,
     "metadata": {},
     "output_type": "execute_result"
    }
   ],
   "source": [
    "p = 107\n",
    "alp = 10\n",
    "bet = 64\n",
    "metodPollarda(p, alp, bet)"
   ]
  },
  {
   "cell_type": "code",
   "execution_count": 121,
   "id": "c4f79fe9-4adc-4216-b166-3d914fd01210",
   "metadata": {},
   "outputs": [
    {
     "data": {
      "text/plain": [
       "3×51 Matrix{Int64}:\n",
       " 2  10  20  100  200  1000  981  425  …   86  430  860  224  101  505  1010\n",
       " 1   1   2    2    3     3    4    8     679  679  680  680  680  680   681\n",
       " 0   1   1    2    2     3    3    6     374  375  375  376  377  378   378"
      ]
     },
     "metadata": {},
     "output_type": "display_data"
    },
    {
     "data": {
      "text/plain": [
       "3×51 Matrix{Int64}:\n",
       " 10  100  1000  425  436  284  986  …  108  237  248   86  860  101  1010\n",
       "  1    2     3    8   16   17   17     838  658  299  299  300  300   301\n",
       "  1    2     3    6   14   15   17     102  205  410  412  413  415   416"
      ]
     },
     "metadata": {},
     "output_type": "display_data"
    },
    {
     "data": {
      "text/plain": [
       "10"
      ]
     },
     "execution_count": 121,
     "metadata": {},
     "output_type": "execute_result"
    }
   ],
   "source": [
    "p = 1019\n",
    "alp = 2\n",
    "bet = 5\n",
    "metodPollarda(p, alp, bet)"
   ]
  }
 ],
 "metadata": {
  "kernelspec": {
   "display_name": "Julia 1.9.3",
   "language": "julia",
   "name": "julia-1.9"
  },
  "language_info": {
   "file_extension": ".jl",
   "mimetype": "application/julia",
   "name": "julia",
   "version": "1.9.3"
  }
 },
 "nbformat": 4,
 "nbformat_minor": 5
}

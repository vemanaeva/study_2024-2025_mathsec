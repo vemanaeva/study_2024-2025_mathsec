{
 "cells": [
  {
   "cell_type": "markdown",
   "id": "5ae9d61f-c47a-48d2-a680-7f6336c9d2b0",
   "metadata": {},
   "source": [
    "## Лабораторная работа №2\n",
    "\n",
    "**Шифры перестановки**\n",
    "\n",
    "Выполнила:\n",
    "\n",
    "Манаева Варвара Евгеньевна, НФИмд-01-24, 1132249514"
   ]
  },
  {
   "cell_type": "markdown",
   "id": "a538d8ca-1f55-4220-8ca1-7f2abd2d0db0",
   "metadata": {},
   "source": [
    "## 1. Реализовать все рассмотренные шифры программно"
   ]
  },
  {
   "cell_type": "markdown",
   "id": "fd9e78e3-05fb-407a-9ee1-7a8475d749fb",
   "metadata": {},
   "source": [
    "### Маршрутное шифрование"
   ]
  },
  {
   "cell_type": "code",
   "execution_count": 1,
   "id": "88eb5ba1-6aba-4842-96d8-7c1cf3f4700b",
   "metadata": {},
   "outputs": [
    {
     "data": {
      "text/plain": [
       "routeEncoding (generic function with 1 method)"
      ]
     },
     "execution_count": 1,
     "metadata": {},
     "output_type": "execute_result"
    }
   ],
   "source": [
    "function routeEncodingIncorrect(text::AbstractString, code::AbstractString, isToEncode::Bool)::AbstractString\n",
    "    indexes = sortperm(split(code, \"\"))\n",
    "    n = length(code)\n",
    "    if !isToEncode\n",
    "        indexes = sortperm(indexes)\n",
    "    end\n",
    "    while mod(length(text), n) != 0\n",
    "        text *= \"а\"\n",
    "    end\n",
    "    println(\"Text to be encoded:\\n\", text)\n",
    "    m = div(length(text), n)\n",
    "    t = split(text, \"\")\n",
    "    t = reshape(t, n, m)\n",
    "    for i in 1:m\n",
    "        t[:, i] = t[indexes, i]\n",
    "    end\n",
    "    encoded_text = join(t)\n",
    "    return encoded_text\n",
    "end\n",
    "\n",
    "function routeEncoding(text::AbstractString, code::AbstractString)::AbstractString\n",
    "    indexes = sortperm(split(code, \"\"))\n",
    "    n = length(code)\n",
    "    while mod(length(text), n) != 0\n",
    "        text *= \"а\"\n",
    "    end\n",
    "    println(\"Text to be transformed:\\n\", text)\n",
    "    m = div(length(text), n)\n",
    "    t = split(text, \"\")\n",
    "    t = reshape(t, n, m)\n",
    "    temp = copy(t)\n",
    "    for i in 1:n\n",
    "        temp[i, :] = t[indexes[i], :]\n",
    "    end\n",
    "    encoded_text = \"\"\n",
    "    for i in 1:n\n",
    "        encoded_text *= join(temp[i, :])\n",
    "    end\n",
    "    return encoded_text\n",
    "end"
   ]
  },
  {
   "cell_type": "code",
   "execution_count": 2,
   "id": "ceb4bf7f-c60b-4f98-a03d-b7a57b6080a6",
   "metadata": {},
   "outputs": [
    {
     "data": {
      "text/plain": [
       "routeDecoding (generic function with 1 method)"
      ]
     },
     "execution_count": 2,
     "metadata": {},
     "output_type": "execute_result"
    }
   ],
   "source": [
    "function routeDecoding(text::AbstractString, code::AbstractString)::AbstractString\n",
    "    indexes = sortperm(sortperm(split(code, \"\")))\n",
    "    n = length(code)\n",
    "    println(\"Text to be transformed:\\n\", text)\n",
    "    m = div(length(text), n)\n",
    "    t = split(text, \"\")\n",
    "    t = reshape(t, m, n)\n",
    "    temp = copy(t)\n",
    "    for i in 1:n\n",
    "        temp[:, i] = t[:, indexes[i]]\n",
    "    end\n",
    "    encoded_text = \"\"\n",
    "    for i in 1:m\n",
    "        encoded_text *= join(temp[i, :])\n",
    "    end\n",
    "    return encoded_text\n",
    "end"
   ]
  },
  {
   "cell_type": "code",
   "execution_count": 3,
   "id": "5e167e9f-4787-4f76-9d24-4d6e0255fcdc",
   "metadata": {},
   "outputs": [
    {
     "name": "stdout",
     "output_type": "stream",
     "text": [
      "Text to be transformed:\n",
      "нельзянедооцениватьпротивникаа\n",
      "The result of encoding:\n",
      "еенпнзоатаьовокннеьвлдирияцтиа\n",
      "\n",
      "\n",
      "Text to be transformed:\n",
      "еенпнзоатаьовокннеьвлдирияцтиа\n",
      "The result of decoding:\n",
      "нельзянедооцениватьпротивникаа\n"
     ]
    }
   ],
   "source": [
    "coded_text = routeEncoding(\"нельзянедооцениватьпротивника\", \"пароль\")\n",
    "println(\"The result of encoding:\\n\", coded_text, \"\\n\\n\")\n",
    "decoded_text = routeDecoding(coded_text, \"пароль\")\n",
    "println(\"The result of decoding:\\n\", decoded_text)"
   ]
  },
  {
   "cell_type": "markdown",
   "id": "a361affe-f568-446b-ab16-3545350d568c",
   "metadata": {},
   "source": [
    "### 2. Шифрование с помощью решёток"
   ]
  },
  {
   "cell_type": "code",
   "execution_count": 4,
   "id": "cac97df9-524a-4cf5-a270-4422e73bde9c",
   "metadata": {},
   "outputs": [],
   "source": [
    "using Random"
   ]
  },
  {
   "cell_type": "code",
   "execution_count": 5,
   "id": "afd93706-790a-4b9d-b5b8-a4b776711590",
   "metadata": {},
   "outputs": [
    {
     "data": {
      "text/plain": [
       "err_handl (generic function with 1 method)"
      ]
     },
     "execution_count": 5,
     "metadata": {},
     "output_type": "execute_result"
    }
   ],
   "source": [
    "function err_handl(text)\n",
    "    check = false\n",
    "    while !check\n",
    "        try \n",
    "            Int(sqrt(length(text))/2)\n",
    "        catch\n",
    "            text *= \"a\"\n",
    "        else\n",
    "            check = true\n",
    "        end\n",
    "    end\n",
    "    return text, Int(sqrt(length(text))/2)\n",
    "end"
   ]
  },
  {
   "cell_type": "code",
   "execution_count": 6,
   "id": "d8c6aa3a-ef5e-41c1-b2e8-9b105cee3a85",
   "metadata": {},
   "outputs": [
    {
     "data": {
      "text/plain": [
       "reshetDecoding (generic function with 1 method)"
      ]
     },
     "execution_count": 6,
     "metadata": {},
     "output_type": "execute_result"
    }
   ],
   "source": [
    "function reshetEncoding(text::AbstractString, code::AbstractString, prorezy::Vector)\n",
    "    text, k = err_handl(text)\n",
    "    println(\"Text to be transformed:\\n\", text)\n",
    "    te = split(text, \"\")\n",
    "    if k == 1\n",
    "        print(\"Cannot be encoded due to algorithm restrictions\")\n",
    "        return\n",
    "    end\n",
    "    if length(code) > 2*k\n",
    "        code = code[1:2*k]\n",
    "    elseif length(code) < 2*k\n",
    "        while length(code) < 2*k\n",
    "            code *= \"a\"\n",
    "        end\n",
    "    end\n",
    "    if length(prorezy) != k^2\n",
    "        prorezy = rand(1:4, k^2)\n",
    "    end\n",
    "    cuts_mask = Array{Integer, 2}(undef, 2*k, 2*k)\n",
    "    cuts_mask[1:k, 1:k] = [prorezy[i+k*j] == 1 ? i+k*j : 0 for j=0:k-1,i=1:k]\n",
    "    cuts_mask[1:k, k+1:2*k] = [prorezy[i+k*j] == 2 ? i+k*j : 0 for j=0:k-1,i=k:-1:1]\n",
    "    cuts_mask[k+1:2*k, k+1:2*k] = [prorezy[i+k*j] == 3 ? i+k*j : 0 for j=k-1:-1:0,i=k:-1:1]\n",
    "    cuts_mask[k+1:2*k, 1:k] = [prorezy[i+k*j] == 4 ? i+k*j : 0 for j=k-1:-1:0,i=1:k]\n",
    "    t = Array{AbstractString, 2}(undef, 2*k, 2*k)\n",
    "    for i in 1:4\n",
    "        for j in 1:k^2\n",
    "            t[findfirst(x -> x== j, cuts_mask)] = te[(i-1)*k^2+j]\n",
    "        end\n",
    "        cuts_mask = rotr90(cuts_mask)\n",
    "    end\n",
    "    println(\"Code utilized:\\n\", code)\n",
    "    indexes = sortperm(split(code, \"\"))\n",
    "    temp = copy(t)\n",
    "    for i in 1:2*k\n",
    "        temp[i, :] = t[indexes[i], :]\n",
    "    end\n",
    "    encoded_text = \"\"\n",
    "    for i in 1:2*k\n",
    "        encoded_text *= join(temp[i, :])\n",
    "    end\n",
    "    return encoded_text, code, prorezy\n",
    "end\n",
    "\n",
    "function reshetDecoding(text::AbstractString, code::AbstractString, prorezy)\n",
    "    indexes = sortperm(sortperm(split(code, \"\")))\n",
    "    k = Int(sqrt(length(code)))\n",
    "    println(\"Text to be transformed:\\n\", text)\n",
    "    t = split(text, \"\")\n",
    "    t = reshape(t, 2*k, 2*k)\n",
    "    temp = copy(t)\n",
    "    for i in 1:2*k\n",
    "        temp[:, i] = t[:, indexes[i]]\n",
    "    end\n",
    "    for i in 1:2*k\n",
    "        t[i, :] = temp[:, i]\n",
    "    end\n",
    "    cuts_mask = Array{Integer, 2}(undef, 2*k, 2*k)\n",
    "    cuts_mask[1:k, 1:k] = [prorezy[i+k*j] == 1 ? i+k*j : 0 for j=0:k-1,i=1:k]\n",
    "    cuts_mask[1:k, k+1:2*k] = [prorezy[i+k*j] == 2 ? i+k*j : 0 for j=0:k-1,i=k:-1:1]\n",
    "    cuts_mask[k+1:2*k, k+1:2*k] = [prorezy[i+k*j] == 3 ? i+k*j : 0 for j=k-1:-1:0,i=k:-1:1]\n",
    "    cuts_mask[k+1:2*k, 1:k] = [prorezy[i+k*j] == 4 ? i+k*j : 0 for j=k-1:-1:0,i=1:k]\n",
    "    encoded_text = \"\"\n",
    "    for i in 1:4\n",
    "        for j in 1:k^2\n",
    "            encoded_text *= t[findfirst(x -> x== j, cuts_mask)]\n",
    "        end\n",
    "        cuts_mask = rotr90(cuts_mask)\n",
    "    end\n",
    "    return encoded_text\n",
    "end"
   ]
  },
  {
   "cell_type": "code",
   "execution_count": 7,
   "id": "2506b97f-a047-4dd4-acaa-1305e317f2d2",
   "metadata": {},
   "outputs": [
    {
     "name": "stdout",
     "output_type": "stream",
     "text": [
      "Text to be transformed:\n",
      "договорподписали\n",
      "Code utilized:\n",
      "шифр\n",
      "The result of encoding:\n",
      "ппиаоровооигсдлд\n",
      "\n",
      "\n",
      "Text to be transformed:\n",
      "ппиаоровооигсдлд\n",
      "The result of decoding:\n",
      "договорподписали\n"
     ]
    }
   ],
   "source": [
    "coded_text, code, cuts = reshetEncoding(\"договорподписали\", \"шифр\", [2,3,3,4])\n",
    "println(\"The result of encoding:\\n\", coded_text, \"\\n\\n\")\n",
    "result = reshetDecoding(coded_text, code, cuts)\n",
    "println(\"The result of decoding:\\n\", result)"
   ]
  },
  {
   "cell_type": "markdown",
   "id": "019077ec-06c7-4a3a-9187-d1a028a38db0",
   "metadata": {},
   "source": [
    "### 3. Таблица Вижнера"
   ]
  },
  {
   "cell_type": "code",
   "execution_count": 8,
   "id": "235b2077-d9e4-4ef5-baf1-3f418fe7d491",
   "metadata": {},
   "outputs": [
    {
     "data": {
      "text/plain": [
       "VigenereTable (generic function with 1 method)"
      ]
     },
     "execution_count": 8,
     "metadata": {},
     "output_type": "execute_result"
    }
   ],
   "source": [
    "function VigenereTable(text::AbstractString, code::AbstractString, isEncoded::Bool)::AbstractString\n",
    "    t = filter(isascii,text)\n",
    "    code = filter(isascii,code)\n",
    "    println(\"Text to be encoded:\\n\", t, \"; \\nCode:\\\"\", code, \"\\\"\")\n",
    "    code = Int.(only.(split(code, \"\")))\n",
    "    if isEncoded\n",
    "        code = (-1).*code\n",
    "    end\n",
    "    temp = only.(split(t,\"\"))\n",
    "    for i in 1:length(temp)\n",
    "        temp[i] = Char(mod(Int(temp[i])+code[mod(i, length(code))+1], 128))\n",
    "    end\n",
    "    t = join(temp)\n",
    "    return t\n",
    "end"
   ]
  },
  {
   "cell_type": "code",
   "execution_count": 9,
   "id": "b71477be-5c5b-4a2e-8b71-9425a2496a59",
   "metadata": {},
   "outputs": [
    {
     "name": "stdout",
     "output_type": "stream",
     "text": [
      "Text to be encoded:\n",
      "TEXT to be coded!!!!  and some innocent letters; \n",
      "Code:\"alphabet\"\n",
      "The result of encoding:\n",
      "\u0011\t\u0002\u0002\u0005UOP\u0010[POJ\u0014JZ^WDGSh\u0001XU\\UGWg\n",
      "\n",
      "\n",
      "Text to be encoded:\n",
      "\u0011\t\u0002\u0002\u0005UOP\u0010[POJ\u0014JZ^WDGSh\u0001XU\\UGWg; \n",
      "Code:\"alphabet\"\n",
      "The result of decoding:\n",
      "TEXT to be coded!!!!  and some innocent letters\n"
     ]
    }
   ],
   "source": [
    "coded_text = VigenereTable(\"TEXT to be coded!!!! αβγ and some innocent letters\", \"alphabet\", false)\n",
    "println(\"The result of encoding:\\n\", coded_text, \"\\n\\n\")\n",
    "decoded_text = VigenereTable(coded_text, \"alphabet\", true)\n",
    "println(\"The result of decoding:\\n\", decoded_text)"
   ]
  }
 ],
 "metadata": {
  "kernelspec": {
   "display_name": "Julia 1.9.3",
   "language": "julia",
   "name": "julia-1.9"
  },
  "language_info": {
   "file_extension": ".jl",
   "mimetype": "application/julia",
   "name": "julia",
   "version": "1.9.3"
  }
 },
 "nbformat": 4,
 "nbformat_minor": 5
}

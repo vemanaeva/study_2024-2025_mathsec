{
 "cells": [
  {
   "cell_type": "markdown",
   "id": "5ae9d61f-c47a-48d2-a680-7f6336c9d2b0",
   "metadata": {},
   "source": [
    "## Лабораторная работа №6\n",
    "\n",
    "Разложение чисел на множители\n",
    "\n",
    "Выполнила:\n",
    "\n",
    "Манаева Варвара Евгеньевна, НФИмд-01-24, 1132249514"
   ]
  },
  {
   "cell_type": "markdown",
   "id": "23f8065f-1b2e-444a-9482-ada3a3c443ee",
   "metadata": {},
   "source": [
    "Для проверки будем использовать число $221$"
   ]
  },
  {
   "cell_type": "markdown",
   "id": "a538d8ca-1f55-4220-8ca1-7f2abd2d0db0",
   "metadata": {},
   "source": [
    "### 1. Алгоритм, реализующий p-метод Полларда"
   ]
  },
  {
   "cell_type": "code",
   "execution_count": 1,
   "id": "fa7d20ff-c42d-4502-b067-24900ef0428b",
   "metadata": {},
   "outputs": [
    {
     "data": {
      "text/plain": [
       "evklidBin (generic function with 1 method)"
      ]
     },
     "execution_count": 1,
     "metadata": {},
     "output_type": "execute_result"
    }
   ],
   "source": [
    "function evklidBin(a, b)\n",
    "    if a == 0 || b == 0\n",
    "        return 0\n",
    "    elseif a == b\n",
    "        return a\n",
    "    elseif a < 0\n",
    "        a *= -1\n",
    "    elseif b < 0\n",
    "        b *= -1\n",
    "    end\n",
    "    g = 1\n",
    "    u = a; v = b\n",
    "    while u > 0\n",
    "        if u % 2 == 0 && v % 2 == 0\n",
    "            g *= 2\n",
    "            u = round(Int, u/2)\n",
    "            v = round(Int, v/2)\n",
    "        elseif u % 2 == 0\n",
    "            u = round(Int, u/2)\n",
    "        elseif v % 2 == 0\n",
    "            v = round(Int, v/2)\n",
    "        elseif u >= v\n",
    "            u = u - v\n",
    "        else\n",
    "            v = v - u\n",
    "        end\n",
    "    end\n",
    "    g *= v\n",
    "    return g\n",
    "end"
   ]
  },
  {
   "cell_type": "code",
   "execution_count": 8,
   "id": "88eb5ba1-6aba-4842-96d8-7c1cf3f4700b",
   "metadata": {},
   "outputs": [
    {
     "data": {
      "text/plain": [
       "metodPollarda (generic function with 1 method)"
      ]
     },
     "execution_count": 8,
     "metadata": {},
     "output_type": "execute_result"
    }
   ],
   "source": [
    "function metodPollarda(n, c, any_func::Function)\n",
    "    if n % 2 == 0\n",
    "        return 2, round(Int, n/2)\n",
    "    end\n",
    "    a = c; b = c\n",
    "    i = 0\n",
    "    p = 0\n",
    "    while p == 0 && i < 100\n",
    "        a = any_func(a)\n",
    "        b = any_func(any_func(b))\n",
    "        d = evklidBin(a-b, n)\n",
    "        if d > 1\n",
    "            return d, round(Int, n/d)\n",
    "        end\n",
    "        i += 1\n",
    "    end\n",
    "    return \"Делитель не найден\"\n",
    "end"
   ]
  },
  {
   "cell_type": "code",
   "execution_count": 3,
   "id": "c4f79fe9-4adc-4216-b166-3d914fd01210",
   "metadata": {},
   "outputs": [
    {
     "name": "stdout",
     "output_type": "stream",
     "text": [
      "6\t41\t1\n",
      "41\t123939\t1\n",
      "1686\t391594\t1\n",
      "123939\t438157\t1\n",
      "435426\t582738\t1\n",
      "391594\t1144026\t1\n",
      "1090062\t885749\t1181\n"
     ]
    },
    {
     "data": {
      "text/plain": [
       "(1181, 1151)"
      ]
     },
     "execution_count": 3,
     "metadata": {},
     "output_type": "execute_result"
    }
   ],
   "source": [
    "n = 1359331\n",
    "c = 1\n",
    "metodPollarda(n, c, x -> (x^2 + 5) % n)"
   ]
  },
  {
   "cell_type": "code",
   "execution_count": 9,
   "id": "c219b4e0-2526-488a-bb2b-a184f491f835",
   "metadata": {},
   "outputs": [
    {
     "data": {
      "text/plain": [
       "(5591, 24317)"
      ]
     },
     "execution_count": 9,
     "metadata": {},
     "output_type": "execute_result"
    }
   ],
   "source": [
    "n = 135956347\n",
    "c = 1\n",
    "metodPollarda(n, c, x -> (x^2 + 13) % n)"
   ]
  }
 ],
 "metadata": {
  "kernelspec": {
   "display_name": "Julia 1.9.3",
   "language": "julia",
   "name": "julia-1.9"
  },
  "language_info": {
   "file_extension": ".jl",
   "mimetype": "application/julia",
   "name": "julia",
   "version": "1.9.3"
  }
 },
 "nbformat": 4,
 "nbformat_minor": 5
}

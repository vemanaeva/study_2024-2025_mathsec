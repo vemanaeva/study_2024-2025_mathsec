{
 "cells": [
  {
   "cell_type": "markdown",
   "id": "5ae9d61f-c47a-48d2-a680-7f6336c9d2b0",
   "metadata": {},
   "source": [
    "## Лабораторная работа №5\n",
    "\n",
    "Вероятностные проверки чисел на простоту\n",
    "\n",
    "Выполнила:\n",
    "\n",
    "Манаева Варвара Евгеньевна, НФИмд-01-24, 1132249514"
   ]
  },
  {
   "cell_type": "markdown",
   "id": "23f8065f-1b2e-444a-9482-ada3a3c443ee",
   "metadata": {},
   "source": [
    "Для проверки будем использовать числа $441$ ($21^2$) и $443$ (простое)"
   ]
  },
  {
   "cell_type": "markdown",
   "id": "a538d8ca-1f55-4220-8ca1-7f2abd2d0db0",
   "metadata": {},
   "source": [
    "### 1. Тест Ферма"
   ]
  },
  {
   "cell_type": "code",
   "execution_count": 1,
   "id": "88eb5ba1-6aba-4842-96d8-7c1cf3f4700b",
   "metadata": {},
   "outputs": [
    {
     "data": {
      "text/plain": [
       "testFerma (generic function with 1 method)"
      ]
     },
     "execution_count": 1,
     "metadata": {},
     "output_type": "execute_result"
    }
   ],
   "source": [
    "function testFerma(n)\n",
    "    if n < 5\n",
    "        return \"Incorrect input.\"\n",
    "    end\n",
    "    a = rand(2:n-2)\n",
    "    r = powermod(a, n-1, n)\n",
    "    if r == 1\n",
    "        return \"Число \" * string(n) * \", вероятно, простое.\"\n",
    "    else\n",
    "        return \"Число \" * string(n) * \" составное.\"\n",
    "    end\n",
    "end"
   ]
  },
  {
   "cell_type": "code",
   "execution_count": 2,
   "id": "21e0ef4f-ca51-436d-9ca8-212f10ba7e80",
   "metadata": {},
   "outputs": [
    {
     "data": {
      "text/plain": [
       "\"Число 441 составное.\""
      ]
     },
     "metadata": {},
     "output_type": "display_data"
    },
    {
     "data": {
      "text/plain": [
       "\"Число 443, вероятно, простое.\""
      ]
     },
     "metadata": {},
     "output_type": "display_data"
    }
   ],
   "source": [
    "display(testFerma(441))\n",
    "display(testFerma(443))"
   ]
  },
  {
   "cell_type": "markdown",
   "id": "a361affe-f568-446b-ab16-3545350d568c",
   "metadata": {},
   "source": [
    "### 2. Символ Якоби"
   ]
  },
  {
   "cell_type": "code",
   "execution_count": 3,
   "id": "20564604-d9fb-4276-afb9-e05b871a5c50",
   "metadata": {},
   "outputs": [
    {
     "data": {
      "text/plain": [
       "YacobySymbol (generic function with 1 method)"
      ]
     },
     "execution_count": 3,
     "metadata": {},
     "output_type": "execute_result"
    }
   ],
   "source": [
    "function YacobySymbol(n, a)\n",
    "    if n < 3 || a >= n || a < 0\n",
    "        return \"Incorrect input.\"\n",
    "    end\n",
    "    g = 1\n",
    "    a1 = 0\n",
    "    k = 0\n",
    "    s = 0\n",
    "    while a1 != 1\n",
    "        if a == 0\n",
    "            return 0\n",
    "        elseif a == 1\n",
    "            return 1\n",
    "        end\n",
    "        a1 = a\n",
    "        k = 0\n",
    "        while a1 % 2 == 0\n",
    "            k += 1\n",
    "            a1 = round(Int64, a1 / 2)\n",
    "        end\n",
    "        \n",
    "        if k % 2 == 0 || (k % 2 == 1 && (n % 8 == 1 || n % 8 == 7))\n",
    "            s = 1\n",
    "        elseif k % 2 == 1 && (n % 8 == 3 || n % 8 == 5)\n",
    "            s = -1\n",
    "        end\n",
    "        if a1 == 1\n",
    "            return g*s\n",
    "        end\n",
    "        \n",
    "        if n % 4 == 3 && a % 4 == 3\n",
    "            s = -s\n",
    "        end\n",
    "        \n",
    "        a = n % a1\n",
    "        n = a1\n",
    "        g *= s\n",
    "    end\n",
    "end"
   ]
  },
  {
   "cell_type": "code",
   "execution_count": 4,
   "id": "aa7bd318-97e0-48b0-9191-6fb52077937a",
   "metadata": {},
   "outputs": [
    {
     "data": {
      "text/plain": [
       "1"
      ]
     },
     "execution_count": 4,
     "metadata": {},
     "output_type": "execute_result"
    }
   ],
   "source": [
    "YacobySymbol(443, 359)"
   ]
  },
  {
   "cell_type": "markdown",
   "id": "5777dc9c-ad41-423b-ad68-d2fffc620228",
   "metadata": {},
   "source": [
    "### 3. Тест Соловэя-Штрассена"
   ]
  },
  {
   "cell_type": "code",
   "execution_count": 5,
   "id": "28a627a5-2f6b-4471-8d15-71c8c137f4ab",
   "metadata": {},
   "outputs": [
    {
     "data": {
      "text/plain": [
       "testSoloveyaShtrassena (generic function with 1 method)"
      ]
     },
     "execution_count": 5,
     "metadata": {},
     "output_type": "execute_result"
    }
   ],
   "source": [
    "function testSoloveyaShtrassena(n)\n",
    "    if n < 5\n",
    "        return \"Incorrect input.\"\n",
    "    end\n",
    "    a = rand(2:n-2)\n",
    "    r = powermod(a, round(Int64, (n-1)/2), n)\n",
    "    if r != 1 && r != n-1\n",
    "        return \"Число \" * string(n) * \" составное.\"\n",
    "    else\n",
    "        s = YacobySymbol(n, a)\n",
    "        if r == s && r != NaN\n",
    "            return \"Число \" * string(n) * \" составное.\"\n",
    "        end\n",
    "        return \"Число \" * string(n) * \", вероятно, простое.\"\n",
    "    end\n",
    "end"
   ]
  },
  {
   "cell_type": "code",
   "execution_count": 6,
   "id": "f2f607af-60bf-46e3-abb1-f734972fce31",
   "metadata": {},
   "outputs": [
    {
     "data": {
      "text/plain": [
       "\"Число 4463429 составное.\""
      ]
     },
     "metadata": {},
     "output_type": "display_data"
    },
    {
     "data": {
      "text/plain": [
       "\"Число 443, вероятно, простое.\""
      ]
     },
     "metadata": {},
     "output_type": "display_data"
    }
   ],
   "source": [
    "display(testSoloveyaShtrassena(4463429))\n",
    "display(testSoloveyaShtrassena(443))"
   ]
  },
  {
   "cell_type": "markdown",
   "id": "b3ea4723-5798-45be-bf8c-8a01b8a1c4d1",
   "metadata": {},
   "source": [
    "### 4. Тест Миллера-Робина"
   ]
  },
  {
   "cell_type": "code",
   "execution_count": 7,
   "id": "13ae0299-b65c-45dc-9331-5356d6c736dd",
   "metadata": {},
   "outputs": [
    {
     "data": {
      "text/plain": [
       "testMilleraRobina (generic function with 1 method)"
      ]
     },
     "execution_count": 7,
     "metadata": {},
     "output_type": "execute_result"
    }
   ],
   "source": [
    "function testMilleraRobina(n)\n",
    "    if n < 5\n",
    "        return \"Incorrect input.\"\n",
    "    end\n",
    "    r = n-1\n",
    "    s = 0\n",
    "    while r % 2 == 0\n",
    "        s += 1\n",
    "        r = round(Int64, r / 2)\n",
    "    end\n",
    "    a = rand(2:n-2)\n",
    "    y = powermod(a, r, n)\n",
    "    if y != 1 && y != n-1\n",
    "        j = 1\n",
    "        while j < s-1 && y != n-1\n",
    "            y = y^2 % n\n",
    "            if y == 1\n",
    "                \"Число \" * string(n) * \" составное.\"\n",
    "            end\n",
    "            j += 1\n",
    "        end\n",
    "        if y != n-1\n",
    "            \"Число \" * string(n) * \" составное.\"\n",
    "        else\n",
    "            \"Число \" * string(n) * \", вероятно, простое.\"\n",
    "        end\n",
    "    else\n",
    "        return \"Число \" * string(n) * \", вероятно, простое.\"\n",
    "    end\n",
    "end"
   ]
  },
  {
   "cell_type": "code",
   "execution_count": 8,
   "id": "99fe1044-b629-47ce-b421-ab1d96271ef7",
   "metadata": {},
   "outputs": [
    {
     "data": {
      "text/plain": [
       "\"Число 4463429 составное.\""
      ]
     },
     "metadata": {},
     "output_type": "display_data"
    },
    {
     "data": {
      "text/plain": [
       "\"Число 443, вероятно, простое.\""
      ]
     },
     "metadata": {},
     "output_type": "display_data"
    }
   ],
   "source": [
    "display(testMilleraRobina(4463429))\n",
    "display(testMilleraRobina(443))"
   ]
  }
 ],
 "metadata": {
  "kernelspec": {
   "display_name": "Julia 1.9.3",
   "language": "julia",
   "name": "julia-1.9"
  },
  "language_info": {
   "file_extension": ".jl",
   "mimetype": "application/julia",
   "name": "julia",
   "version": "1.9.3"
  }
 },
 "nbformat": 4,
 "nbformat_minor": 5
}

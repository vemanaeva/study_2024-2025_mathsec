{
 "cells": [
  {
   "cell_type": "markdown",
   "id": "5ae9d61f-c47a-48d2-a680-7f6336c9d2b0",
   "metadata": {},
   "source": [
    "## Лабораторная работа №8\n",
    "\n",
    "Целочисленная арифметика многократной точности\n",
    "\n",
    "Выполнила:\n",
    "\n",
    "Манаева Варвара Евгеньевна, НФИмд-01-24, 1132249514"
   ]
  },
  {
   "cell_type": "markdown",
   "id": "a538d8ca-1f55-4220-8ca1-7f2abd2d0db0",
   "metadata": {},
   "source": [
    "### 1. Сложение неотрицательных целых чисел"
   ]
  },
  {
   "cell_type": "markdown",
   "id": "e165c60d-4f4f-43c6-82ad-01d5ff1fd28f",
   "metadata": {},
   "source": [
    "$$\\Large\n",
    "12533 + 989 = 13522\n",
    "$$"
   ]
  },
  {
   "cell_type": "code",
   "execution_count": 12,
   "id": "a3de271e-1ec9-4840-80f2-c6231f7f871f",
   "metadata": {},
   "outputs": [
    {
     "data": {
      "text/plain": [
       "sum_accurate (generic function with 2 methods)"
      ]
     },
     "execution_count": 12,
     "metadata": {},
     "output_type": "execute_result"
    }
   ],
   "source": [
    "function sum_accurate(u, v, b=10)\n",
    "    k = 0\n",
    "    u_str = parse.(Integer, only.(split(string(u), \"\"))); v_str = parse.(Integer, only.(split(string(v), \"\")))\n",
    "    n_u = length(u_str); n_v = length(v_str)\n",
    "    j = max(n_u, n_v)\n",
    "    w = zeros(Int64, j+1)\n",
    "    if n_u < n_v\n",
    "        temp = zeros(Int64, j)\n",
    "        temp[n_v - n_u + 1:j] = u_str\n",
    "        u_str = [i for i in temp]\n",
    "    elseif n_v < n_u\n",
    "        temp = zeros(Int64, j)\n",
    "        temp[n_u - n_v + 1:j] = v_str\n",
    "        v_str = [i for i in temp]\n",
    "    end\n",
    "    while j != 0\n",
    "        k_temp = (u_str[j] + v_str[j] + k) % b\n",
    "        w[j+1] = k_temp\n",
    "        k = round(Int, (u_str[j] + v_str[j] + k - k_temp) / b)\n",
    "        j -= 1\n",
    "    end\n",
    "    w[1] = k\n",
    "    return parse(Int, join(string.(w)))\n",
    "end"
   ]
  },
  {
   "cell_type": "code",
   "execution_count": 13,
   "id": "d830558f-0004-4116-9fec-bf837e734d72",
   "metadata": {},
   "outputs": [
    {
     "data": {
      "text/plain": [
       "13522"
      ]
     },
     "execution_count": 13,
     "metadata": {},
     "output_type": "execute_result"
    }
   ],
   "source": [
    "sum_accurate(12533,989)"
   ]
  },
  {
   "cell_type": "markdown",
   "id": "19216408-1eb2-4e3f-a004-14058aa9b051",
   "metadata": {},
   "source": [
    "### 2. Вычитание неотрицательных целых чисел"
   ]
  },
  {
   "cell_type": "markdown",
   "id": "173ff928-4276-4768-bed5-701e5c8136bf",
   "metadata": {},
   "source": [
    "$$\\Large\n",
    "12533 - 989 = 11544\n",
    "$$"
   ]
  },
  {
   "cell_type": "code",
   "execution_count": 14,
   "id": "3903e775-160c-4b56-872b-8a9fa4f1a77b",
   "metadata": {},
   "outputs": [
    {
     "data": {
      "text/plain": [
       "raz_accurate (generic function with 2 methods)"
      ]
     },
     "execution_count": 14,
     "metadata": {},
     "output_type": "execute_result"
    }
   ],
   "source": [
    "function raz_accurate(u, v, b=10)\n",
    "    if u < v\n",
    "        return string(u) * \" should be greater than \" * string(v)\n",
    "    end\n",
    "    k = 0\n",
    "    u_str = parse.(Integer, only.(split(string(u), \"\"))); v_str = parse.(Integer, only.(split(string(v), \"\")))\n",
    "    n_u = length(u_str); n_v = length(v_str)\n",
    "    j = max(n_u, n_v)\n",
    "    w = zeros(Int64, j)\n",
    "    if n_v < n_u\n",
    "        temp = zeros(Int64, j)\n",
    "        temp[n_u - n_v + 1:j] = v_str\n",
    "        v_str = [i for i in temp]\n",
    "    end\n",
    "    while j != 0\n",
    "        if u_str[j] < v_str[j]\n",
    "            k = b\n",
    "            u_str[j-1] -= 1\n",
    "        else\n",
    "            k = 0\n",
    "        end\n",
    "        k_temp = (u_str[j] - v_str[j] + k) % b\n",
    "        w[j] += k_temp\n",
    "        j -= 1\n",
    "    end\n",
    "    return parse(Int, join(string.(w)))\n",
    "end"
   ]
  },
  {
   "cell_type": "code",
   "execution_count": 15,
   "id": "e6aa8852-064a-4b59-a97b-7b85e211a771",
   "metadata": {},
   "outputs": [
    {
     "data": {
      "text/plain": [
       "11544"
      ]
     },
     "execution_count": 15,
     "metadata": {},
     "output_type": "execute_result"
    }
   ],
   "source": [
    "raz_accurate(12533,989)"
   ]
  },
  {
   "cell_type": "markdown",
   "id": "d88104a0-23db-4a4a-9a2c-0398d8c9fd56",
   "metadata": {},
   "source": [
    "### 3. Умножение неотрицательных целых чисел столбиком"
   ]
  },
  {
   "cell_type": "markdown",
   "id": "948ce0ef-80e5-4052-992e-bc1693c62f32",
   "metadata": {},
   "source": [
    "$$\\Large\n",
    "12533 * 989 = 12 395 137\n",
    "$$"
   ]
  },
  {
   "cell_type": "code",
   "execution_count": 66,
   "id": "88eb5ba1-6aba-4842-96d8-7c1cf3f4700b",
   "metadata": {},
   "outputs": [
    {
     "data": {
      "text/plain": [
       "umn_accurate (generic function with 2 methods)"
      ]
     },
     "execution_count": 66,
     "metadata": {},
     "output_type": "execute_result"
    }
   ],
   "source": [
    "function umn_accurate(u, v, b=10)\n",
    "    k = 0\n",
    "    u_str = parse.(Integer, only.(split(string(u), \"\"))); v_str = parse.(Integer, only.(split(string(v), \"\")))\n",
    "    i = length(u_str); j = length(v_str)\n",
    "    w = zeros(Int64, i + j)\n",
    "    while j > 0\n",
    "        i = length(u_str)\n",
    "        k = 0\n",
    "        while i > 0\n",
    "            k_temp = u_str[i] * v_str[j] + w[i+j] + k\n",
    "            w[i+j] = k_temp % b\n",
    "            k = round(Int, (k_temp - w[i+j]) / b)\n",
    "            i -= 1\n",
    "        end\n",
    "        w[j] = k\n",
    "        j -= 1\n",
    "    end\n",
    "    return parse(Int, join(string.(w)))\n",
    "end"
   ]
  },
  {
   "cell_type": "code",
   "execution_count": 67,
   "id": "36d8ea71-8899-4402-ba15-6f129918550d",
   "metadata": {},
   "outputs": [
    {
     "data": {
      "text/plain": [
       "12395137"
      ]
     },
     "execution_count": 67,
     "metadata": {},
     "output_type": "execute_result"
    }
   ],
   "source": [
    "umn_accurate(12533,989)"
   ]
  },
  {
   "cell_type": "markdown",
   "id": "e820c494-d453-48fd-a5e3-ba660fcd5875",
   "metadata": {},
   "source": [
    "### 4. Быстрый столбик"
   ]
  },
  {
   "cell_type": "markdown",
   "id": "32551412-9fea-4846-b63b-d77e0e07738d",
   "metadata": {},
   "source": [
    "$$\\Large\n",
    "12533 * 989 = 12 395 137\n",
    "$$"
   ]
  },
  {
   "cell_type": "code",
   "execution_count": 78,
   "id": "24e10ab4-1e19-4701-a32b-c2468943d6e9",
   "metadata": {},
   "outputs": [
    {
     "data": {
      "text/plain": [
       "umn_fast (generic function with 2 methods)"
      ]
     },
     "execution_count": 78,
     "metadata": {},
     "output_type": "execute_result"
    }
   ],
   "source": [
    "function umn_fast(u, v, b=10)\n",
    "    u_str = parse.(Integer, only.(split(string(u), \"\"))); v_str = parse.(Integer, only.(split(string(v), \"\")))\n",
    "    n = length(u_str); m = length(v_str)\n",
    "    w = zeros(Int64, n + m)\n",
    "    t = 0\n",
    "    for s in 0:m+n-1\n",
    "        for i in 0:s\n",
    "            if n-i <= 0 || m-s+i <= 0\n",
    "                continue\n",
    "            end\n",
    "            t += u_str[n-i] * v_str[m-s+i]\n",
    "        end\n",
    "        w[n+m-s] = t % b\n",
    "        t = round(Int64, (t - w[n+m-s]) / b)\n",
    "    end\n",
    "    return parse(Int, join(string.(w)))\n",
    "end"
   ]
  },
  {
   "cell_type": "code",
   "execution_count": 79,
   "id": "1abefd1c-13ee-41a5-beb9-7e2a990034a0",
   "metadata": {},
   "outputs": [
    {
     "data": {
      "text/plain": [
       "12395137"
      ]
     },
     "execution_count": 79,
     "metadata": {},
     "output_type": "execute_result"
    }
   ],
   "source": [
    "umn_fast(12533,989)"
   ]
  }
 ],
 "metadata": {
  "kernelspec": {
   "display_name": "Julia 1.9.3",
   "language": "julia",
   "name": "julia-1.9"
  },
  "language_info": {
   "file_extension": ".jl",
   "mimetype": "application/julia",
   "name": "julia",
   "version": "1.9.3"
  }
 },
 "nbformat": 4,
 "nbformat_minor": 5
}

{
 "cells": [
  {
   "cell_type": "markdown",
   "id": "5ae9d61f-c47a-48d2-a680-7f6336c9d2b0",
   "metadata": {},
   "source": [
    "## Лабораторная работа №3\n",
    "\n",
    "**Шифрование гаммированием**\n",
    "\n",
    "Выполнила:\n",
    "\n",
    "Манаева Варвара Евгеньевна, НФИмд-01-24, 1132249514"
   ]
  },
  {
   "cell_type": "markdown",
   "id": "a538d8ca-1f55-4220-8ca1-7f2abd2d0db0",
   "metadata": {},
   "source": [
    "## 1. Реализовать шифрование гаммированием с конечной гаммой"
   ]
  },
  {
   "cell_type": "code",
   "execution_count": 1,
   "id": "88eb5ba1-6aba-4842-96d8-7c1cf3f4700b",
   "metadata": {},
   "outputs": [
    {
     "data": {
      "text/plain": [
       "finiteGammaEncoding (generic function with 1 method)"
      ]
     },
     "execution_count": 1,
     "metadata": {},
     "output_type": "execute_result"
    }
   ],
   "source": [
    "function finiteGammaEncoding(text, gamma_code, isToBeEncoded::Bool)\n",
    "    alphabet = vcat(1040:1045, 1025, 1046:1071, 32:33, 44, 46, 63, 1072:1077, 1105, 1078:1103)\n",
    "    filt_text = filter(x -> findfirst(isequal(Int(only(x))), alphabet) != nothing,text)\n",
    "    separated_text = Int.(only.(split(filt_text, \"\")))\n",
    "    n = length(separated_text)\n",
    "    t_nums = [findfirst(isequal(separated_text[i]), alphabet) for i in 1:n]\n",
    "    for i in 1:n\n",
    "        if t_nums[i] > 38\n",
    "            t_nums[i] -= 38\n",
    "        end\n",
    "    end\n",
    "    println(\"The text to be encoded:\\n\", join(Char.([alphabet[t_nums[i]] for i in 1:n])))\n",
    "    g_nums = [findfirst(isequal(i), alphabet) for i in Int.(only.(split(gamma_code, \"\")))]\n",
    "    m = length(g_nums)\n",
    "    if isToBeEncoded\n",
    "        encoded_nums = [alphabet[mod(t_nums[i] + g_nums[mod(i-1, m)+1]-1, 38)+1] for i in 1:n]\n",
    "    else\n",
    "        encoded_nums = [alphabet[mod(t_nums[i] - g_nums[mod(i-1, m)+1]-1, 38)+1] for i in 1:n]\n",
    "    end\n",
    "    encoded_text = \"\" * join(Char.(encoded_nums))\n",
    "    return encoded_text\n",
    "end"
   ]
  },
  {
   "cell_type": "code",
   "execution_count": 2,
   "id": "5e167e9f-4787-4f76-9d24-4d6e0255fcdc",
   "metadata": {},
   "outputs": [
    {
     "name": "stdout",
     "output_type": "stream",
     "text": [
      "The text to be encoded:\n",
      "ПРИКАЗ\n",
      "The result of encoding:\n",
      "УСЦШБЛ\n",
      "\n",
      "\n",
      "The text to be encoded:\n",
      "УСЦШБЛ\n",
      "The result of decoding:\n",
      "ПРИКАЗ\n"
     ]
    }
   ],
   "source": [
    "coded_text = finiteGammaEncoding(\"приКАЗ\", \"ГАММА\", true)\n",
    "println(\"The result of encoding:\\n\", coded_text, \"\\n\\n\")\n",
    "decoded_text = finiteGammaEncoding(coded_text, \"ГАММА\", false)\n",
    "println(\"The result of decoding:\\n\", decoded_text)"
   ]
  }
 ],
 "metadata": {
  "kernelspec": {
   "display_name": "Julia 1.9.3",
   "language": "julia",
   "name": "julia-1.9"
  },
  "language_info": {
   "file_extension": ".jl",
   "mimetype": "application/julia",
   "name": "julia",
   "version": "1.9.3"
  }
 },
 "nbformat": 4,
 "nbformat_minor": 5
}
